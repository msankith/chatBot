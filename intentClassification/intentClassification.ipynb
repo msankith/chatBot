{
 "cells": [
  {
   "cell_type": "code",
   "execution_count": 1,
   "metadata": {
    "collapsed": true
   },
   "outputs": [],
   "source": [
    "from nltk.corpus import stopwords\n",
    "from sklearn.feature_extraction.text import CountVectorizer\n",
    "from sklearn import preprocessing\n",
    "from sklearn import svm\n",
    "from sklearn.metrics import accuracy_score\n",
    "from sklearn.metrics import f1_score\n",
    "from sklearn.metrics import confusion_matrix\n",
    "from sklearn.metrics import precision_score\n",
    "from sklearn.metrics import recall_score"
   ]
  },
  {
   "cell_type": "code",
   "execution_count": 2,
   "metadata": {},
   "outputs": [],
   "source": [
    "def readData(trainPath,testPath):\n",
    "    train=[]\n",
    "    test=[]\n",
    "    train_label=[]\n",
    "    test_label=[]\n",
    "    complete=[]\n",
    "    for line in open(trainPath):\n",
    "        temp=line.split(\"\\t\")\n",
    "        train_label.append(temp[0])\n",
    "        train.append(temp[1].strip())\n",
    "\n",
    "    for line in open(testPath):\n",
    "        temp=line.split(\"\\t\")\n",
    "        test_label.append(temp[0])\n",
    "        test.append(temp[1].strip())\n",
    "    return train,test,train_label,test_label\n",
    "    \n",
    "#stop words removal\n",
    "def clean_str(string):\n",
    "    string = re.sub(r\"[^A-Za-z0-9(),!?\\'\\`]\", \" \", string)\n",
    "    string = re.sub(r\"\\'s\", \" \\'s\", string)\n",
    "    string = re.sub(r\"\\'ve\", \" \\'ve\", string)\n",
    "    string = re.sub(r\"n\\'t\", \" n\\'t\", string)\n",
    "    string = re.sub(r\"\\'re\", \" \\'re\", string)\n",
    "    string = re.sub(r\"\\'d\", \" \\'d\", string)\n",
    "    string = re.sub(r\"\\'ll\", \" \\'ll\", string)\n",
    "    string = re.sub(r\",\", \" , \", string)\n",
    "    string = re.sub(r\"!\", \" ! \", string)\n",
    "    string = re.sub(r\"\\(\", \" \\( \", string)\n",
    "    string = re.sub(r\"\\)\", \" \\) \", string)\n",
    "    string = re.sub(r\"\\?\", \" \\? \", string)\n",
    "    string = re.sub(r\"\\s{2,}\", \" \", string)\n",
    "    return string.strip().lower()\n"
   ]
  },
  {
   "cell_type": "code",
   "execution_count": 3,
   "metadata": {},
   "outputs": [],
   "source": [
    "\n",
    "def featuresPipeline(data,vector):\n",
    "    #NER\n",
    "    #####END OF NER ######\n",
    "    \n",
    "    #VECTORIZER\n",
    "    features=vector.transform(data)\n",
    "    return features\n",
    "\n",
    "def parseData(trainData=None,trainLabel=None,testData=None,testLabel=None,vector=None,labelEncoder=None):\n",
    "    \n",
    "    training=False\n",
    "    #check if training data available if yes setup for preprocessing\n",
    "    if trainData!=None:\n",
    "        stopwords_nltk = set(stopwords.words(\"english\"))\n",
    "        relevant_words = set(['not', 'nor', 'no', 'wasn', 'ain', 'aren', 'very', 'only', 'but', 'don', 'isn', 'weren'])\n",
    "        stopwords_filtered = list(stopwords_nltk.difference(relevant_words))\n",
    "        vectorizer = CountVectorizer(stop_words =  stopwords_filtered, max_features = 5000, ngram_range = (1,3))\n",
    "        vector = vectorizer.fit(trainData+testData)\n",
    "        labelEncoder=preprocessing.LabelEncoder()\n",
    "        labelEncoder=labelEncoder.fit(trainLabel+testLabel)\n",
    "    \n",
    "    #transform training Data \n",
    "    if trainData !=None:\n",
    "        training=True\n",
    "        train_features=featuresPipeline(trainData,vector)\n",
    "        train_encoded_labels=labelEncoder.transform(train_label)\n",
    "    \n",
    "    #transform test Data\n",
    "    test_features=featuresPipeline(testData,vector)\n",
    "    test_encoded_labels=[]\n",
    "    if testLabel!=None:\n",
    "        test_encoded_labels=labelEncoder.transform(test_label)\n",
    "    \n",
    "    if training:\n",
    "        return (train_features,train_encoded_labels),(test_features,test_encoded_labels),vector,labelEncoder\n",
    "    \n",
    "    return (test_features,test_encoded_labels)\n",
    "        \n",
    "\n",
    "def trainModel(data):\n",
    "    clf = svm.LinearSVC()\n",
    "    clf.fit(data[0], data[1])\n",
    "    return clf\n",
    "\n",
    "def prediction(data,model):\n",
    "    predict = model.predict(data)\n",
    "    return predict\n",
    "\n",
    "def performanceMetric(data,model):\n",
    "    \n",
    "    predict=prediction(data[0],model)\n",
    "    test_encoded_labels=data[1]\n",
    "    print \"accuracy: \",accuracy_score(test_encoded_labels,predict)\n",
    "    print \"F1-Score \",f1_score(test_encoded_labels,predict,average='macro')\n",
    "#     print \"Precision \", precision_score(test_encoded_labels,predict,average='macro')\n",
    "#     print \"Recall \", recall_score(test_encoded_labels,predict,average='macro')    \n",
    "#     print confusion_matrix(test_encoded_labels,predict)\n",
    "\n",
    "def getPredictionPipepline(testDataList,model,vector,labelEncoder):\n",
    "    \n",
    "    testFeatures=parseData(testData=testDataList,vector=vector)\n",
    "    predict=prediction(testFeatures[0],model)\n",
    "    label=labelEncoder.inverse_transform(predict)\n",
    "    return label"
   ]
  },
  {
   "cell_type": "code",
   "execution_count": 4,
   "metadata": {},
   "outputs": [],
   "source": [
    "train,test,train_label,test_label=readData(\"Data/intentClassificationData_Train\",\"Data/intentClassificationData_Test\")\n",
    "trainData,testData,vector,labelEncoder=parseData(trainData=train,trainLabel=train_label,testData=test,testLabel=test_label)\n",
    "model=trainModel(trainData)"
   ]
  },
  {
   "cell_type": "code",
   "execution_count": 5,
   "metadata": {},
   "outputs": [
    {
     "name": "stdout",
     "output_type": "stream",
     "text": [
      "accuracy:  0.941769316909\n",
      "F1-Score  0.65600516971\n"
     ]
    },
    {
     "name": "stderr",
     "output_type": "stream",
     "text": [
      "/usr/local/lib/python2.7/dist-packages/sklearn/metrics/classification.py:1074: UndefinedMetricWarning: F-score is ill-defined and being set to 0.0 in labels with no predicted samples.\n",
      "  'precision', 'predicted', average, warn_for)\n"
     ]
    }
   ],
   "source": [
    "performanceMetric(testData,model)"
   ]
  },
  {
   "cell_type": "code",
   "execution_count": 7,
   "metadata": {},
   "outputs": [
    {
     "data": {
      "text/plain": [
       "'atis_distance'"
      ]
     },
     "execution_count": 7,
     "metadata": {},
     "output_type": "execute_result"
    }
   ],
   "source": [
    "testDataList=[\"how far is it from orlando airport to orlando\"]\n",
    "getPredictionPipepline(testDataList,model,vector,labelEncoder)[0]"
   ]
  },
  {
   "cell_type": "code",
   "execution_count": 8,
   "metadata": {},
   "outputs": [
    {
     "data": {
      "text/plain": [
       "'atis_flight'"
      ]
     },
     "execution_count": 8,
     "metadata": {},
     "output_type": "execute_result"
    }
   ],
   "source": [
    "testDataList=[\"which flights leave chicago next tuesday and arrive in detroit around 6 pm\"]\n",
    "getPredictionPipepline(testDataList,model,vector,labelEncoder)[0]"
   ]
  },
  {
   "cell_type": "code",
   "execution_count": 9,
   "metadata": {},
   "outputs": [
    {
     "data": {
      "text/plain": [
       "'atis_aircraft'"
      ]
     },
     "execution_count": 9,
     "metadata": {},
     "output_type": "execute_result"
    }
   ],
   "source": [
    "#TRUE LABEL atis_flight\n",
    "testDataList=[\"show me the connecting flights between boston and denver and the types of aircraft used\"]\n",
    "getPredictionPipepline(testDataList,model,vector,labelEncoder)[0]"
   ]
  },
  {
   "cell_type": "code",
   "execution_count": 10,
   "metadata": {},
   "outputs": [
    {
     "data": {
      "text/plain": [
       "'atis_flight'"
      ]
     },
     "execution_count": 10,
     "metadata": {},
     "output_type": "execute_result"
    }
   ],
   "source": [
    "#TRUE LABEL atis_airline\n",
    "testDataList=[\"show me airlines that have flights between toronto and detroit between detroit and st. louis and between st. louis and toronto\"]\n",
    "getPredictionPipepline(testDataList,model,vector,labelEncoder)[0]"
   ]
  },
  {
   "cell_type": "code",
   "execution_count": null,
   "metadata": {
    "collapsed": true
   },
   "outputs": [],
   "source": []
  }
 ],
 "metadata": {
  "kernelspec": {
   "display_name": "Python 2",
   "language": "python",
   "name": "python2"
  },
  "language_info": {
   "codemirror_mode": {
    "name": "ipython",
    "version": 2
   },
   "file_extension": ".py",
   "mimetype": "text/x-python",
   "name": "python",
   "nbconvert_exporter": "python",
   "pygments_lexer": "ipython2",
   "version": "2.7.12"
  }
 },
 "nbformat": 4,
 "nbformat_minor": 2
}
